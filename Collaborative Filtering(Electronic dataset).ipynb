{
 "cells": [
  {
   "cell_type": "code",
   "execution_count": 1,
   "id": "31cbbdd5",
   "metadata": {},
   "outputs": [],
   "source": [
    "import pandas as pd"
   ]
  },
  {
   "cell_type": "markdown",
   "id": "b5b269ef",
   "metadata": {},
   "source": [
    "## Import dataset"
   ]
  },
  {
   "cell_type": "code",
   "execution_count": 2,
   "id": "cd9b85ac",
   "metadata": {
    "scrolled": true
   },
   "outputs": [
    {
     "data": {
      "text/html": [
       "<div>\n",
       "<style scoped>\n",
       "    .dataframe tbody tr th:only-of-type {\n",
       "        vertical-align: middle;\n",
       "    }\n",
       "\n",
       "    .dataframe tbody tr th {\n",
       "        vertical-align: top;\n",
       "    }\n",
       "\n",
       "    .dataframe thead th {\n",
       "        text-align: right;\n",
       "    }\n",
       "</style>\n",
       "<table border=\"1\" class=\"dataframe\">\n",
       "  <thead>\n",
       "    <tr style=\"text-align: right;\">\n",
       "      <th></th>\n",
       "      <th>item_id</th>\n",
       "      <th>user_id</th>\n",
       "      <th>rating</th>\n",
       "      <th>category</th>\n",
       "      <th>brand</th>\n",
       "      <th>year</th>\n",
       "      <th>count</th>\n",
       "      <th>mean</th>\n",
       "    </tr>\n",
       "  </thead>\n",
       "  <tbody>\n",
       "    <tr>\n",
       "      <th>0</th>\n",
       "      <td>372</td>\n",
       "      <td>7509</td>\n",
       "      <td>4.0</td>\n",
       "      <td>Camera &amp; Photo</td>\n",
       "      <td>Philips</td>\n",
       "      <td>2006</td>\n",
       "      <td>28530.0</td>\n",
       "      <td>4.400911</td>\n",
       "    </tr>\n",
       "    <tr>\n",
       "      <th>1</th>\n",
       "      <td>119</td>\n",
       "      <td>1963</td>\n",
       "      <td>5.0</td>\n",
       "      <td>Computers &amp; Accessories</td>\n",
       "      <td>Toshiba</td>\n",
       "      <td>2004</td>\n",
       "      <td>9393.0</td>\n",
       "      <td>4.418184</td>\n",
       "    </tr>\n",
       "    <tr>\n",
       "      <th>2</th>\n",
       "      <td>73</td>\n",
       "      <td>1530</td>\n",
       "      <td>5.0</td>\n",
       "      <td>Camera &amp; Photo</td>\n",
       "      <td>Canon</td>\n",
       "      <td>2002</td>\n",
       "      <td>8622.0</td>\n",
       "      <td>4.218743</td>\n",
       "    </tr>\n",
       "    <tr>\n",
       "      <th>3</th>\n",
       "      <td>121</td>\n",
       "      <td>2203</td>\n",
       "      <td>3.0</td>\n",
       "      <td>Computers &amp; Accessories</td>\n",
       "      <td>Linksys</td>\n",
       "      <td>2003</td>\n",
       "      <td>6278.0</td>\n",
       "      <td>4.168844</td>\n",
       "    </tr>\n",
       "    <tr>\n",
       "      <th>4</th>\n",
       "      <td>145</td>\n",
       "      <td>2399</td>\n",
       "      <td>1.0</td>\n",
       "      <td>Camera &amp; Photo</td>\n",
       "      <td>Canon</td>\n",
       "      <td>2004</td>\n",
       "      <td>5810.0</td>\n",
       "      <td>4.306368</td>\n",
       "    </tr>\n",
       "  </tbody>\n",
       "</table>\n",
       "</div>"
      ],
      "text/plain": [
       "   item_id  user_id  rating                 category    brand  year    count  \\\n",
       "0      372     7509     4.0           Camera & Photo  Philips  2006  28530.0   \n",
       "1      119     1963     5.0  Computers & Accessories  Toshiba  2004   9393.0   \n",
       "2       73     1530     5.0           Camera & Photo    Canon  2002   8622.0   \n",
       "3      121     2203     3.0  Computers & Accessories  Linksys  2003   6278.0   \n",
       "4      145     2399     1.0           Camera & Photo    Canon  2004   5810.0   \n",
       "\n",
       "       mean  \n",
       "0  4.400911  \n",
       "1  4.418184  \n",
       "2  4.218743  \n",
       "3  4.168844  \n",
       "4  4.306368  "
      ]
     },
     "execution_count": 2,
     "metadata": {},
     "output_type": "execute_result"
    }
   ],
   "source": [
    "df = pd.read_csv('dataset/electronics.csv')\n",
    "df.head()"
   ]
  },
  {
   "cell_type": "markdown",
   "id": "2c6f11fe",
   "metadata": {},
   "source": [
    "## Data engineering"
   ]
  },
  {
   "cell_type": "code",
   "execution_count": 3,
   "id": "f1f573d8",
   "metadata": {},
   "outputs": [
    {
     "data": {
      "text/html": [
       "<div>\n",
       "<style scoped>\n",
       "    .dataframe tbody tr th:only-of-type {\n",
       "        vertical-align: middle;\n",
       "    }\n",
       "\n",
       "    .dataframe tbody tr th {\n",
       "        vertical-align: top;\n",
       "    }\n",
       "\n",
       "    .dataframe thead th {\n",
       "        text-align: right;\n",
       "    }\n",
       "</style>\n",
       "<table border=\"1\" class=\"dataframe\">\n",
       "  <thead>\n",
       "    <tr style=\"text-align: right;\">\n",
       "      <th></th>\n",
       "      <th>user_id</th>\n",
       "      <th>rating</th>\n",
       "      <th>brand</th>\n",
       "    </tr>\n",
       "  </thead>\n",
       "  <tbody>\n",
       "    <tr>\n",
       "      <th>0</th>\n",
       "      <td>7509</td>\n",
       "      <td>4.0</td>\n",
       "      <td>Philips</td>\n",
       "    </tr>\n",
       "    <tr>\n",
       "      <th>1</th>\n",
       "      <td>1963</td>\n",
       "      <td>5.0</td>\n",
       "      <td>Toshiba</td>\n",
       "    </tr>\n",
       "    <tr>\n",
       "      <th>2</th>\n",
       "      <td>1530</td>\n",
       "      <td>5.0</td>\n",
       "      <td>Canon</td>\n",
       "    </tr>\n",
       "    <tr>\n",
       "      <th>3</th>\n",
       "      <td>2203</td>\n",
       "      <td>3.0</td>\n",
       "      <td>Linksys</td>\n",
       "    </tr>\n",
       "    <tr>\n",
       "      <th>4</th>\n",
       "      <td>2399</td>\n",
       "      <td>1.0</td>\n",
       "      <td>Canon</td>\n",
       "    </tr>\n",
       "  </tbody>\n",
       "</table>\n",
       "</div>"
      ],
      "text/plain": [
       "   user_id  rating    brand\n",
       "0     7509     4.0  Philips\n",
       "1     1963     5.0  Toshiba\n",
       "2     1530     5.0    Canon\n",
       "3     2203     3.0  Linksys\n",
       "4     2399     1.0    Canon"
      ]
     },
     "execution_count": 3,
     "metadata": {},
     "output_type": "execute_result"
    }
   ],
   "source": [
    "df.drop(columns=['item_id', 'category', 'year', 'count', 'mean'], inplace=True)\n",
    "df.head()"
   ]
  },
  {
   "cell_type": "code",
   "execution_count": 4,
   "id": "6d316dda",
   "metadata": {
    "scrolled": true
   },
   "outputs": [
    {
     "data": {
      "text/html": [
       "<div>\n",
       "<style scoped>\n",
       "    .dataframe tbody tr th:only-of-type {\n",
       "        vertical-align: middle;\n",
       "    }\n",
       "\n",
       "    .dataframe tbody tr th {\n",
       "        vertical-align: top;\n",
       "    }\n",
       "\n",
       "    .dataframe thead th {\n",
       "        text-align: right;\n",
       "    }\n",
       "</style>\n",
       "<table border=\"1\" class=\"dataframe\">\n",
       "  <thead>\n",
       "    <tr style=\"text-align: right;\">\n",
       "      <th></th>\n",
       "      <th>user_id</th>\n",
       "      <th>brand</th>\n",
       "      <th>rating</th>\n",
       "    </tr>\n",
       "  </thead>\n",
       "  <tbody>\n",
       "    <tr>\n",
       "      <th>0</th>\n",
       "      <td>7509</td>\n",
       "      <td>Philips</td>\n",
       "      <td>4.0</td>\n",
       "    </tr>\n",
       "    <tr>\n",
       "      <th>1</th>\n",
       "      <td>1963</td>\n",
       "      <td>Toshiba</td>\n",
       "      <td>5.0</td>\n",
       "    </tr>\n",
       "    <tr>\n",
       "      <th>2</th>\n",
       "      <td>1530</td>\n",
       "      <td>Canon</td>\n",
       "      <td>5.0</td>\n",
       "    </tr>\n",
       "    <tr>\n",
       "      <th>3</th>\n",
       "      <td>2203</td>\n",
       "      <td>Linksys</td>\n",
       "      <td>3.0</td>\n",
       "    </tr>\n",
       "    <tr>\n",
       "      <th>4</th>\n",
       "      <td>2399</td>\n",
       "      <td>Canon</td>\n",
       "      <td>1.0</td>\n",
       "    </tr>\n",
       "    <tr>\n",
       "      <th>5</th>\n",
       "      <td>2258</td>\n",
       "      <td>Linksys</td>\n",
       "      <td>5.0</td>\n",
       "    </tr>\n",
       "    <tr>\n",
       "      <th>6</th>\n",
       "      <td>5583</td>\n",
       "      <td>NaN</td>\n",
       "      <td>5.0</td>\n",
       "    </tr>\n",
       "    <tr>\n",
       "      <th>7</th>\n",
       "      <td>1665</td>\n",
       "      <td>Sony</td>\n",
       "      <td>3.0</td>\n",
       "    </tr>\n",
       "    <tr>\n",
       "      <th>8</th>\n",
       "      <td>1103</td>\n",
       "      <td>NaN</td>\n",
       "      <td>1.0</td>\n",
       "    </tr>\n",
       "    <tr>\n",
       "      <th>9</th>\n",
       "      <td>1826</td>\n",
       "      <td>Sony</td>\n",
       "      <td>5.0</td>\n",
       "    </tr>\n",
       "    <tr>\n",
       "      <th>10</th>\n",
       "      <td>5986</td>\n",
       "      <td>Kodak</td>\n",
       "      <td>5.0</td>\n",
       "    </tr>\n",
       "    <tr>\n",
       "      <th>11</th>\n",
       "      <td>636</td>\n",
       "      <td>Polaroid</td>\n",
       "      <td>4.0</td>\n",
       "    </tr>\n",
       "    <tr>\n",
       "      <th>12</th>\n",
       "      <td>3772</td>\n",
       "      <td>Kodak</td>\n",
       "      <td>3.0</td>\n",
       "    </tr>\n",
       "    <tr>\n",
       "      <th>13</th>\n",
       "      <td>7500</td>\n",
       "      <td>Olympus</td>\n",
       "      <td>1.0</td>\n",
       "    </tr>\n",
       "    <tr>\n",
       "      <th>14</th>\n",
       "      <td>3576</td>\n",
       "      <td>Olympus</td>\n",
       "      <td>4.0</td>\n",
       "    </tr>\n",
       "    <tr>\n",
       "      <th>15</th>\n",
       "      <td>2396</td>\n",
       "      <td>Sony</td>\n",
       "      <td>5.0</td>\n",
       "    </tr>\n",
       "    <tr>\n",
       "      <th>16</th>\n",
       "      <td>5102</td>\n",
       "      <td>Linksys</td>\n",
       "      <td>4.0</td>\n",
       "    </tr>\n",
       "    <tr>\n",
       "      <th>17</th>\n",
       "      <td>111</td>\n",
       "      <td>NaN</td>\n",
       "      <td>4.0</td>\n",
       "    </tr>\n",
       "    <tr>\n",
       "      <th>18</th>\n",
       "      <td>6573</td>\n",
       "      <td>Nikon</td>\n",
       "      <td>5.0</td>\n",
       "    </tr>\n",
       "    <tr>\n",
       "      <th>19</th>\n",
       "      <td>6574</td>\n",
       "      <td>Olympus</td>\n",
       "      <td>1.0</td>\n",
       "    </tr>\n",
       "  </tbody>\n",
       "</table>\n",
       "</div>"
      ],
      "text/plain": [
       "    user_id     brand  rating\n",
       "0      7509   Philips     4.0\n",
       "1      1963   Toshiba     5.0\n",
       "2      1530     Canon     5.0\n",
       "3      2203   Linksys     3.0\n",
       "4      2399     Canon     1.0\n",
       "5      2258   Linksys     5.0\n",
       "6      5583       NaN     5.0\n",
       "7      1665      Sony     3.0\n",
       "8      1103       NaN     1.0\n",
       "9      1826      Sony     5.0\n",
       "10     5986     Kodak     5.0\n",
       "11      636  Polaroid     4.0\n",
       "12     3772     Kodak     3.0\n",
       "13     7500   Olympus     1.0\n",
       "14     3576   Olympus     4.0\n",
       "15     2396      Sony     5.0\n",
       "16     5102   Linksys     4.0\n",
       "17      111       NaN     4.0\n",
       "18     6573     Nikon     5.0\n",
       "19     6574   Olympus     1.0"
      ]
     },
     "execution_count": 4,
     "metadata": {},
     "output_type": "execute_result"
    }
   ],
   "source": [
    "df1 = df[['user_id', 'brand', 'rating']]\n",
    "df1.head(20)"
   ]
  },
  {
   "cell_type": "markdown",
   "id": "f0cebd65",
   "metadata": {},
   "source": [
    "## Training"
   ]
  },
  {
   "cell_type": "code",
   "execution_count": 5,
   "id": "795745e5",
   "metadata": {},
   "outputs": [],
   "source": [
    "from surprise import Reader, Dataset, NMF\n",
    "from surprise.model_selection import cross_validate"
   ]
  },
  {
   "cell_type": "code",
   "execution_count": 6,
   "id": "ec97c6e0",
   "metadata": {},
   "outputs": [],
   "source": [
    "data = Dataset.load_from_df(df1, Reader())\n",
    "trainset = data.build_full_trainset() # generate data train"
   ]
  },
  {
   "cell_type": "code",
   "execution_count": 7,
   "id": "c0110a5d",
   "metadata": {},
   "outputs": [
    {
     "data": {
      "text/plain": [
       "<surprise.prediction_algorithms.matrix_factorization.NMF at 0x10c8298d808>"
      ]
     },
     "execution_count": 7,
     "metadata": {},
     "output_type": "execute_result"
    }
   ],
   "source": [
    "model = NMF()\n",
    "model.fit(trainset)"
   ]
  },
  {
   "cell_type": "code",
   "execution_count": 8,
   "id": "4fc7bf66",
   "metadata": {},
   "outputs": [
    {
     "data": {
      "text/plain": [
       "Prediction(uid=7509, iid='Philips', r_ui=None, est=3.649609180036814, details={'was_impossible': False})"
      ]
     },
     "execution_count": 8,
     "metadata": {},
     "output_type": "execute_result"
    }
   ],
   "source": [
    "model.predict(7509, \"Philips\")"
   ]
  },
  {
   "cell_type": "markdown",
   "id": "fa94d0c0",
   "metadata": {},
   "source": [
    "## All item"
   ]
  },
  {
   "cell_type": "code",
   "execution_count": 9,
   "id": "9e6e6436",
   "metadata": {},
   "outputs": [
    {
     "data": {
      "text/html": [
       "<div>\n",
       "<style scoped>\n",
       "    .dataframe tbody tr th:only-of-type {\n",
       "        vertical-align: middle;\n",
       "    }\n",
       "\n",
       "    .dataframe tbody tr th {\n",
       "        vertical-align: top;\n",
       "    }\n",
       "\n",
       "    .dataframe thead th {\n",
       "        text-align: right;\n",
       "    }\n",
       "</style>\n",
       "<table border=\"1\" class=\"dataframe\">\n",
       "  <thead>\n",
       "    <tr style=\"text-align: right;\">\n",
       "      <th></th>\n",
       "      <th>user_id</th>\n",
       "      <th>rating</th>\n",
       "      <th>brand</th>\n",
       "    </tr>\n",
       "  </thead>\n",
       "  <tbody>\n",
       "    <tr>\n",
       "      <th>0</th>\n",
       "      <td>7509</td>\n",
       "      <td>4.0</td>\n",
       "      <td>Philips</td>\n",
       "    </tr>\n",
       "    <tr>\n",
       "      <th>1</th>\n",
       "      <td>1963</td>\n",
       "      <td>5.0</td>\n",
       "      <td>Toshiba</td>\n",
       "    </tr>\n",
       "    <tr>\n",
       "      <th>2</th>\n",
       "      <td>1530</td>\n",
       "      <td>5.0</td>\n",
       "      <td>Canon</td>\n",
       "    </tr>\n",
       "    <tr>\n",
       "      <th>3</th>\n",
       "      <td>2203</td>\n",
       "      <td>3.0</td>\n",
       "      <td>Linksys</td>\n",
       "    </tr>\n",
       "    <tr>\n",
       "      <th>4</th>\n",
       "      <td>2399</td>\n",
       "      <td>1.0</td>\n",
       "      <td>Canon</td>\n",
       "    </tr>\n",
       "  </tbody>\n",
       "</table>\n",
       "</div>"
      ],
      "text/plain": [
       "   user_id  rating    brand\n",
       "0     7509     4.0  Philips\n",
       "1     1963     5.0  Toshiba\n",
       "2     1530     5.0    Canon\n",
       "3     2203     3.0  Linksys\n",
       "4     2399     1.0    Canon"
      ]
     },
     "execution_count": 9,
     "metadata": {},
     "output_type": "execute_result"
    }
   ],
   "source": [
    "df.head()"
   ]
  },
  {
   "cell_type": "code",
   "execution_count": 10,
   "id": "c85195e9",
   "metadata": {},
   "outputs": [
    {
     "data": {
      "text/plain": [
       "array(['Philips', 'Toshiba', 'Canon', 'Linksys', nan, 'Sony', 'Kodak',\n",
       "       'Polaroid', 'Olympus', 'Nikon', 'Apple', 'Pyle', 'Panasonic',\n",
       "       'Sennheiser', 'Fujifilm', 'EldHus', 'Logitech', 'Garmin', 'Bose',\n",
       "       'JVC', 'HP', 'Kensington', 'Vivitar', 'Samsung', 'Archos',\n",
       "       'Savage', 'ViewSonic', 'Etre Jeune', 'Jabra', 'Gary Fong',\n",
       "       'Uniden', 'ebasy', 'Generic', 'JLAB', 'Skullcandy', 'TaoTronics',\n",
       "       'Neewer', 'Koolertron', 'DURAGADGET', 'iRULU', 'Tiamat', 'DBPOWER',\n",
       "       'Fintie', 'Plemo', 'EINCAR', 'Cooper Cases', 'LSS', 'Mpow',\n",
       "       'XShields', 'IRULU', 'Funlux'], dtype=object)"
      ]
     },
     "execution_count": 10,
     "metadata": {},
     "output_type": "execute_result"
    }
   ],
   "source": [
    "all_item = df['brand'].unique()\n",
    "all_item"
   ]
  },
  {
   "cell_type": "code",
   "execution_count": 11,
   "id": "776de600",
   "metadata": {},
   "outputs": [
    {
     "name": "stdout",
     "output_type": "stream",
     "text": [
      "Number of user: 1157633\n",
      "Number of items: 51\n"
     ]
    }
   ],
   "source": [
    "print('Number of user:',trainset.n_users)\n",
    "print('Number of items:',trainset.n_items)"
   ]
  },
  {
   "cell_type": "code",
   "execution_count": 12,
   "id": "3eaa3bcb",
   "metadata": {},
   "outputs": [],
   "source": [
    "user_id = 7509"
   ]
  },
  {
   "cell_type": "code",
   "execution_count": 13,
   "id": "5a006d8d",
   "metadata": {},
   "outputs": [
    {
     "data": {
      "text/plain": [
       "[[7509, 'Philips', 4],\n",
       " [7509, 'Toshiba', 4],\n",
       " [7509, 'Canon', 4],\n",
       " [7509, 'Linksys', 4],\n",
       " [7509, nan, 4],\n",
       " [7509, 'Sony', 4],\n",
       " [7509, 'Kodak', 4],\n",
       " [7509, 'Polaroid', 4],\n",
       " [7509, 'Olympus', 4],\n",
       " [7509, 'Nikon', 4],\n",
       " [7509, 'Apple', 4],\n",
       " [7509, 'Pyle', 4],\n",
       " [7509, 'Panasonic', 4],\n",
       " [7509, 'Sennheiser', 4],\n",
       " [7509, 'Fujifilm', 4],\n",
       " [7509, 'EldHus', 4],\n",
       " [7509, 'Logitech', 4],\n",
       " [7509, 'Garmin', 4],\n",
       " [7509, 'Bose', 4],\n",
       " [7509, 'JVC', 4],\n",
       " [7509, 'HP', 4],\n",
       " [7509, 'Kensington', 4],\n",
       " [7509, 'Vivitar', 4],\n",
       " [7509, 'Samsung', 4],\n",
       " [7509, 'Archos', 4],\n",
       " [7509, 'Savage', 4],\n",
       " [7509, 'ViewSonic', 4],\n",
       " [7509, 'Etre Jeune', 4],\n",
       " [7509, 'Jabra', 4],\n",
       " [7509, 'Gary Fong', 4],\n",
       " [7509, 'Uniden', 4],\n",
       " [7509, 'ebasy', 4],\n",
       " [7509, 'Generic', 4],\n",
       " [7509, 'JLAB', 4],\n",
       " [7509, 'Skullcandy', 4],\n",
       " [7509, 'TaoTronics', 4],\n",
       " [7509, 'Neewer', 4],\n",
       " [7509, 'Koolertron', 4],\n",
       " [7509, 'DURAGADGET', 4],\n",
       " [7509, 'iRULU', 4],\n",
       " [7509, 'Tiamat', 4],\n",
       " [7509, 'DBPOWER', 4],\n",
       " [7509, 'Fintie', 4],\n",
       " [7509, 'Plemo', 4],\n",
       " [7509, 'EINCAR', 4],\n",
       " [7509, 'Cooper Cases', 4],\n",
       " [7509, 'LSS', 4],\n",
       " [7509, 'Mpow', 4],\n",
       " [7509, 'XShields', 4],\n",
       " [7509, 'IRULU', 4],\n",
       " [7509, 'Funlux', 4]]"
      ]
     },
     "execution_count": 13,
     "metadata": {},
     "output_type": "execute_result"
    }
   ],
   "source": [
    "test_set = [[user_id,iid,4] for iid in all_item]\n",
    "test_set"
   ]
  },
  {
   "cell_type": "code",
   "execution_count": 14,
   "id": "393357d6",
   "metadata": {},
   "outputs": [],
   "source": [
    "pred = model.test(test_set)"
   ]
  },
  {
   "cell_type": "code",
   "execution_count": 15,
   "id": "8046226c",
   "metadata": {},
   "outputs": [
    {
     "data": {
      "text/html": [
       "<div>\n",
       "<style scoped>\n",
       "    .dataframe tbody tr th:only-of-type {\n",
       "        vertical-align: middle;\n",
       "    }\n",
       "\n",
       "    .dataframe tbody tr th {\n",
       "        vertical-align: top;\n",
       "    }\n",
       "\n",
       "    .dataframe thead th {\n",
       "        text-align: right;\n",
       "    }\n",
       "</style>\n",
       "<table border=\"1\" class=\"dataframe\">\n",
       "  <thead>\n",
       "    <tr style=\"text-align: right;\">\n",
       "      <th></th>\n",
       "      <th>uid</th>\n",
       "      <th>iid</th>\n",
       "      <th>r_ui</th>\n",
       "      <th>est</th>\n",
       "      <th>details</th>\n",
       "    </tr>\n",
       "  </thead>\n",
       "  <tbody>\n",
       "    <tr>\n",
       "      <th>45</th>\n",
       "      <td>7509</td>\n",
       "      <td>Cooper Cases</td>\n",
       "      <td>4</td>\n",
       "      <td>3.853797</td>\n",
       "      <td>{'was_impossible': False}</td>\n",
       "    </tr>\n",
       "    <tr>\n",
       "      <th>25</th>\n",
       "      <td>7509</td>\n",
       "      <td>Savage</td>\n",
       "      <td>4</td>\n",
       "      <td>3.759804</td>\n",
       "      <td>{'was_impossible': False}</td>\n",
       "    </tr>\n",
       "    <tr>\n",
       "      <th>0</th>\n",
       "      <td>7509</td>\n",
       "      <td>Philips</td>\n",
       "      <td>4</td>\n",
       "      <td>3.649609</td>\n",
       "      <td>{'was_impossible': False}</td>\n",
       "    </tr>\n",
       "    <tr>\n",
       "      <th>41</th>\n",
       "      <td>7509</td>\n",
       "      <td>DBPOWER</td>\n",
       "      <td>4</td>\n",
       "      <td>3.635074</td>\n",
       "      <td>{'was_impossible': False}</td>\n",
       "    </tr>\n",
       "    <tr>\n",
       "      <th>2</th>\n",
       "      <td>7509</td>\n",
       "      <td>Canon</td>\n",
       "      <td>4</td>\n",
       "      <td>3.577077</td>\n",
       "      <td>{'was_impossible': False}</td>\n",
       "    </tr>\n",
       "  </tbody>\n",
       "</table>\n",
       "</div>"
      ],
      "text/plain": [
       "     uid           iid  r_ui       est                    details\n",
       "45  7509  Cooper Cases     4  3.853797  {'was_impossible': False}\n",
       "25  7509        Savage     4  3.759804  {'was_impossible': False}\n",
       "0   7509       Philips     4  3.649609  {'was_impossible': False}\n",
       "41  7509       DBPOWER     4  3.635074  {'was_impossible': False}\n",
       "2   7509         Canon     4  3.577077  {'was_impossible': False}"
      ]
     },
     "execution_count": 15,
     "metadata": {},
     "output_type": "execute_result"
    }
   ],
   "source": [
    "rec = pd.DataFrame(pred).sort_values(by='est',ascending=False)\n",
    "rec.head(5)"
   ]
  },
  {
   "cell_type": "code",
   "execution_count": 16,
   "id": "7b6bc96b",
   "metadata": {},
   "outputs": [],
   "source": [
    "# df.drop(columns='details', inplace=True)\n",
    "rec.drop(columns='details', inplace=True)"
   ]
  },
  {
   "cell_type": "code",
   "execution_count": 17,
   "id": "f23c59c7",
   "metadata": {},
   "outputs": [
    {
     "data": {
      "text/html": [
       "<div>\n",
       "<style scoped>\n",
       "    .dataframe tbody tr th:only-of-type {\n",
       "        vertical-align: middle;\n",
       "    }\n",
       "\n",
       "    .dataframe tbody tr th {\n",
       "        vertical-align: top;\n",
       "    }\n",
       "\n",
       "    .dataframe thead th {\n",
       "        text-align: right;\n",
       "    }\n",
       "</style>\n",
       "<table border=\"1\" class=\"dataframe\">\n",
       "  <thead>\n",
       "    <tr style=\"text-align: right;\">\n",
       "      <th></th>\n",
       "      <th>uid</th>\n",
       "      <th>iid</th>\n",
       "      <th>r_ui</th>\n",
       "      <th>est</th>\n",
       "    </tr>\n",
       "  </thead>\n",
       "  <tbody>\n",
       "    <tr>\n",
       "      <th>45</th>\n",
       "      <td>7509</td>\n",
       "      <td>Cooper Cases</td>\n",
       "      <td>4</td>\n",
       "      <td>3.853797</td>\n",
       "    </tr>\n",
       "    <tr>\n",
       "      <th>25</th>\n",
       "      <td>7509</td>\n",
       "      <td>Savage</td>\n",
       "      <td>4</td>\n",
       "      <td>3.759804</td>\n",
       "    </tr>\n",
       "    <tr>\n",
       "      <th>0</th>\n",
       "      <td>7509</td>\n",
       "      <td>Philips</td>\n",
       "      <td>4</td>\n",
       "      <td>3.649609</td>\n",
       "    </tr>\n",
       "    <tr>\n",
       "      <th>41</th>\n",
       "      <td>7509</td>\n",
       "      <td>DBPOWER</td>\n",
       "      <td>4</td>\n",
       "      <td>3.635074</td>\n",
       "    </tr>\n",
       "    <tr>\n",
       "      <th>2</th>\n",
       "      <td>7509</td>\n",
       "      <td>Canon</td>\n",
       "      <td>4</td>\n",
       "      <td>3.577077</td>\n",
       "    </tr>\n",
       "  </tbody>\n",
       "</table>\n",
       "</div>"
      ],
      "text/plain": [
       "     uid           iid  r_ui       est\n",
       "45  7509  Cooper Cases     4  3.853797\n",
       "25  7509        Savage     4  3.759804\n",
       "0   7509       Philips     4  3.649609\n",
       "41  7509       DBPOWER     4  3.635074\n",
       "2   7509         Canon     4  3.577077"
      ]
     },
     "execution_count": 17,
     "metadata": {},
     "output_type": "execute_result"
    }
   ],
   "source": [
    "rec.head()"
   ]
  },
  {
   "cell_type": "code",
   "execution_count": 18,
   "id": "0dc56b14",
   "metadata": {
    "scrolled": true
   },
   "outputs": [
    {
     "data": {
      "text/html": [
       "<div>\n",
       "<style scoped>\n",
       "    .dataframe tbody tr th:only-of-type {\n",
       "        vertical-align: middle;\n",
       "    }\n",
       "\n",
       "    .dataframe tbody tr th {\n",
       "        vertical-align: top;\n",
       "    }\n",
       "\n",
       "    .dataframe thead th {\n",
       "        text-align: right;\n",
       "    }\n",
       "</style>\n",
       "<table border=\"1\" class=\"dataframe\">\n",
       "  <thead>\n",
       "    <tr style=\"text-align: right;\">\n",
       "      <th></th>\n",
       "      <th>user_id</th>\n",
       "      <th>item</th>\n",
       "      <th>rating</th>\n",
       "      <th>pred_score</th>\n",
       "    </tr>\n",
       "  </thead>\n",
       "  <tbody>\n",
       "    <tr>\n",
       "      <th>45</th>\n",
       "      <td>7509</td>\n",
       "      <td>Cooper Cases</td>\n",
       "      <td>4</td>\n",
       "      <td>3.853797</td>\n",
       "    </tr>\n",
       "    <tr>\n",
       "      <th>25</th>\n",
       "      <td>7509</td>\n",
       "      <td>Savage</td>\n",
       "      <td>4</td>\n",
       "      <td>3.759804</td>\n",
       "    </tr>\n",
       "    <tr>\n",
       "      <th>0</th>\n",
       "      <td>7509</td>\n",
       "      <td>Philips</td>\n",
       "      <td>4</td>\n",
       "      <td>3.649609</td>\n",
       "    </tr>\n",
       "    <tr>\n",
       "      <th>41</th>\n",
       "      <td>7509</td>\n",
       "      <td>DBPOWER</td>\n",
       "      <td>4</td>\n",
       "      <td>3.635074</td>\n",
       "    </tr>\n",
       "    <tr>\n",
       "      <th>2</th>\n",
       "      <td>7509</td>\n",
       "      <td>Canon</td>\n",
       "      <td>4</td>\n",
       "      <td>3.577077</td>\n",
       "    </tr>\n",
       "  </tbody>\n",
       "</table>\n",
       "</div>"
      ],
      "text/plain": [
       "    user_id          item  rating  pred_score\n",
       "45     7509  Cooper Cases       4    3.853797\n",
       "25     7509        Savage       4    3.759804\n",
       "0      7509       Philips       4    3.649609\n",
       "41     7509       DBPOWER       4    3.635074\n",
       "2      7509         Canon       4    3.577077"
      ]
     },
     "execution_count": 18,
     "metadata": {},
     "output_type": "execute_result"
    }
   ],
   "source": [
    "rec = rec.rename(columns={'uid':'user_id', 'iid':'item', 'r_ui':'rating', 'est':'pred_score'})\n",
    "rec.head()"
   ]
  },
  {
   "cell_type": "markdown",
   "id": "1492a659",
   "metadata": {},
   "source": [
    "### 5 barang yang dapat direkomendasikan untuk user 7509"
   ]
  },
  {
   "cell_type": "markdown",
   "id": "8220c582",
   "metadata": {},
   "source": [
    "## Export dataframe to csv"
   ]
  },
  {
   "cell_type": "code",
   "execution_count": 54,
   "id": "4ae748d9",
   "metadata": {},
   "outputs": [],
   "source": [
    "csv_data = df1.to_csv('collaborative_electronics.csv', index =False)"
   ]
  },
  {
   "cell_type": "markdown",
   "id": "fe465bb6",
   "metadata": {},
   "source": [
    "## Evaluasi Model"
   ]
  },
  {
   "cell_type": "code",
   "execution_count": 20,
   "id": "10bec8c7",
   "metadata": {},
   "outputs": [
    {
     "data": {
      "text/plain": [
       "<surprise.prediction_algorithms.matrix_factorization.NMF at 0x10c9a251408>"
      ]
     },
     "execution_count": 20,
     "metadata": {},
     "output_type": "execute_result"
    }
   ],
   "source": [
    "from surprise.model_selection import train_test_split\n",
    "from surprise import NMF\n",
    "[trainset,testset] = train_test_split(data,test_size=0.3)\n",
    "model = NMF()\n",
    "model.fit(trainset)"
   ]
  },
  {
   "cell_type": "code",
   "execution_count": 21,
   "id": "7a9a9b7b",
   "metadata": {},
   "outputs": [],
   "source": [
    "test_pred= model.test(test_set)"
   ]
  },
  {
   "cell_type": "code",
   "execution_count": 22,
   "id": "fd3c0d0c",
   "metadata": {},
   "outputs": [
    {
     "data": {
      "text/html": [
       "<div>\n",
       "<style scoped>\n",
       "    .dataframe tbody tr th:only-of-type {\n",
       "        vertical-align: middle;\n",
       "    }\n",
       "\n",
       "    .dataframe tbody tr th {\n",
       "        vertical-align: top;\n",
       "    }\n",
       "\n",
       "    .dataframe thead th {\n",
       "        text-align: right;\n",
       "    }\n",
       "</style>\n",
       "<table border=\"1\" class=\"dataframe\">\n",
       "  <thead>\n",
       "    <tr style=\"text-align: right;\">\n",
       "      <th></th>\n",
       "      <th>uid</th>\n",
       "      <th>iid</th>\n",
       "      <th>r_ui</th>\n",
       "      <th>est</th>\n",
       "      <th>details</th>\n",
       "    </tr>\n",
       "  </thead>\n",
       "  <tbody>\n",
       "    <tr>\n",
       "      <th>0</th>\n",
       "      <td>7509</td>\n",
       "      <td>Philips</td>\n",
       "      <td>4</td>\n",
       "      <td>4.052342</td>\n",
       "      <td>{'was_impossible': True, 'reason': 'User and i...</td>\n",
       "    </tr>\n",
       "    <tr>\n",
       "      <th>1</th>\n",
       "      <td>7509</td>\n",
       "      <td>Toshiba</td>\n",
       "      <td>4</td>\n",
       "      <td>4.052342</td>\n",
       "      <td>{'was_impossible': True, 'reason': 'User and i...</td>\n",
       "    </tr>\n",
       "    <tr>\n",
       "      <th>2</th>\n",
       "      <td>7509</td>\n",
       "      <td>Canon</td>\n",
       "      <td>4</td>\n",
       "      <td>4.052342</td>\n",
       "      <td>{'was_impossible': True, 'reason': 'User and i...</td>\n",
       "    </tr>\n",
       "    <tr>\n",
       "      <th>3</th>\n",
       "      <td>7509</td>\n",
       "      <td>Linksys</td>\n",
       "      <td>4</td>\n",
       "      <td>4.052342</td>\n",
       "      <td>{'was_impossible': True, 'reason': 'User and i...</td>\n",
       "    </tr>\n",
       "    <tr>\n",
       "      <th>4</th>\n",
       "      <td>7509</td>\n",
       "      <td>NaN</td>\n",
       "      <td>4</td>\n",
       "      <td>4.052342</td>\n",
       "      <td>{'was_impossible': True, 'reason': 'User and i...</td>\n",
       "    </tr>\n",
       "  </tbody>\n",
       "</table>\n",
       "</div>"
      ],
      "text/plain": [
       "    uid      iid  r_ui       est  \\\n",
       "0  7509  Philips     4  4.052342   \n",
       "1  7509  Toshiba     4  4.052342   \n",
       "2  7509    Canon     4  4.052342   \n",
       "3  7509  Linksys     4  4.052342   \n",
       "4  7509      NaN     4  4.052342   \n",
       "\n",
       "                                             details  \n",
       "0  {'was_impossible': True, 'reason': 'User and i...  \n",
       "1  {'was_impossible': True, 'reason': 'User and i...  \n",
       "2  {'was_impossible': True, 'reason': 'User and i...  \n",
       "3  {'was_impossible': True, 'reason': 'User and i...  \n",
       "4  {'was_impossible': True, 'reason': 'User and i...  "
      ]
     },
     "execution_count": 22,
     "metadata": {},
     "output_type": "execute_result"
    }
   ],
   "source": [
    "tp = pd.DataFrame(test_pred)\n",
    "tp.head()"
   ]
  },
  {
   "cell_type": "code",
   "execution_count": 23,
   "id": "178e6be8",
   "metadata": {},
   "outputs": [],
   "source": [
    "tp.drop(columns='details', inplace=True)"
   ]
  },
  {
   "cell_type": "code",
   "execution_count": 24,
   "id": "d9d06192",
   "metadata": {},
   "outputs": [
    {
     "data": {
      "text/html": [
       "<div>\n",
       "<style scoped>\n",
       "    .dataframe tbody tr th:only-of-type {\n",
       "        vertical-align: middle;\n",
       "    }\n",
       "\n",
       "    .dataframe tbody tr th {\n",
       "        vertical-align: top;\n",
       "    }\n",
       "\n",
       "    .dataframe thead th {\n",
       "        text-align: right;\n",
       "    }\n",
       "</style>\n",
       "<table border=\"1\" class=\"dataframe\">\n",
       "  <thead>\n",
       "    <tr style=\"text-align: right;\">\n",
       "      <th></th>\n",
       "      <th>user_id</th>\n",
       "      <th>item</th>\n",
       "      <th>rating</th>\n",
       "      <th>pred_score</th>\n",
       "    </tr>\n",
       "  </thead>\n",
       "  <tbody>\n",
       "    <tr>\n",
       "      <th>0</th>\n",
       "      <td>7509</td>\n",
       "      <td>Philips</td>\n",
       "      <td>4</td>\n",
       "      <td>4.052342</td>\n",
       "    </tr>\n",
       "    <tr>\n",
       "      <th>1</th>\n",
       "      <td>7509</td>\n",
       "      <td>Toshiba</td>\n",
       "      <td>4</td>\n",
       "      <td>4.052342</td>\n",
       "    </tr>\n",
       "    <tr>\n",
       "      <th>2</th>\n",
       "      <td>7509</td>\n",
       "      <td>Canon</td>\n",
       "      <td>4</td>\n",
       "      <td>4.052342</td>\n",
       "    </tr>\n",
       "    <tr>\n",
       "      <th>3</th>\n",
       "      <td>7509</td>\n",
       "      <td>Linksys</td>\n",
       "      <td>4</td>\n",
       "      <td>4.052342</td>\n",
       "    </tr>\n",
       "    <tr>\n",
       "      <th>4</th>\n",
       "      <td>7509</td>\n",
       "      <td>NaN</td>\n",
       "      <td>4</td>\n",
       "      <td>4.052342</td>\n",
       "    </tr>\n",
       "    <tr>\n",
       "      <th>5</th>\n",
       "      <td>7509</td>\n",
       "      <td>Sony</td>\n",
       "      <td>4</td>\n",
       "      <td>4.052342</td>\n",
       "    </tr>\n",
       "  </tbody>\n",
       "</table>\n",
       "</div>"
      ],
      "text/plain": [
       "   user_id     item  rating  pred_score\n",
       "0     7509  Philips       4    4.052342\n",
       "1     7509  Toshiba       4    4.052342\n",
       "2     7509    Canon       4    4.052342\n",
       "3     7509  Linksys       4    4.052342\n",
       "4     7509      NaN       4    4.052342\n",
       "5     7509     Sony       4    4.052342"
      ]
     },
     "execution_count": 24,
     "metadata": {},
     "output_type": "execute_result"
    }
   ],
   "source": [
    "tp = tp.rename(columns={'uid':'user_id', 'iid':'item', 'r_ui':'rating', 'est':'pred_score'})\n",
    "tp.head(6)"
   ]
  },
  {
   "cell_type": "code",
   "execution_count": 25,
   "id": "784961d5",
   "metadata": {},
   "outputs": [],
   "source": [
    "tp = tp.drop(4)"
   ]
  },
  {
   "cell_type": "code",
   "execution_count": 26,
   "id": "9435ec4a",
   "metadata": {
    "scrolled": true
   },
   "outputs": [
    {
     "data": {
      "text/html": [
       "<div>\n",
       "<style scoped>\n",
       "    .dataframe tbody tr th:only-of-type {\n",
       "        vertical-align: middle;\n",
       "    }\n",
       "\n",
       "    .dataframe tbody tr th {\n",
       "        vertical-align: top;\n",
       "    }\n",
       "\n",
       "    .dataframe thead th {\n",
       "        text-align: right;\n",
       "    }\n",
       "</style>\n",
       "<table border=\"1\" class=\"dataframe\">\n",
       "  <thead>\n",
       "    <tr style=\"text-align: right;\">\n",
       "      <th></th>\n",
       "      <th>user_id</th>\n",
       "      <th>item</th>\n",
       "      <th>rating</th>\n",
       "      <th>pred_score</th>\n",
       "    </tr>\n",
       "  </thead>\n",
       "  <tbody>\n",
       "    <tr>\n",
       "      <th>0</th>\n",
       "      <td>7509</td>\n",
       "      <td>Philips</td>\n",
       "      <td>4</td>\n",
       "      <td>4.052342</td>\n",
       "    </tr>\n",
       "    <tr>\n",
       "      <th>1</th>\n",
       "      <td>7509</td>\n",
       "      <td>Toshiba</td>\n",
       "      <td>4</td>\n",
       "      <td>4.052342</td>\n",
       "    </tr>\n",
       "    <tr>\n",
       "      <th>2</th>\n",
       "      <td>7509</td>\n",
       "      <td>Canon</td>\n",
       "      <td>4</td>\n",
       "      <td>4.052342</td>\n",
       "    </tr>\n",
       "    <tr>\n",
       "      <th>3</th>\n",
       "      <td>7509</td>\n",
       "      <td>Linksys</td>\n",
       "      <td>4</td>\n",
       "      <td>4.052342</td>\n",
       "    </tr>\n",
       "    <tr>\n",
       "      <th>5</th>\n",
       "      <td>7509</td>\n",
       "      <td>Sony</td>\n",
       "      <td>4</td>\n",
       "      <td>4.052342</td>\n",
       "    </tr>\n",
       "  </tbody>\n",
       "</table>\n",
       "</div>"
      ],
      "text/plain": [
       "   user_id     item  rating  pred_score\n",
       "0     7509  Philips       4    4.052342\n",
       "1     7509  Toshiba       4    4.052342\n",
       "2     7509    Canon       4    4.052342\n",
       "3     7509  Linksys       4    4.052342\n",
       "5     7509     Sony       4    4.052342"
      ]
     },
     "execution_count": 26,
     "metadata": {},
     "output_type": "execute_result"
    }
   ],
   "source": [
    "tp.head()"
   ]
  },
  {
   "cell_type": "markdown",
   "id": "646feb19",
   "metadata": {},
   "source": [
    "## ML Engineering"
   ]
  },
  {
   "cell_type": "code",
   "execution_count": 57,
   "id": "c190ac93",
   "metadata": {},
   "outputs": [],
   "source": [
    "class RecommenderSystem:\n",
    "    def __init__(self, data):\n",
    "        self.df1 = pd.read_csv(data)\n",
    "        self.all_item = self.df1['brand'].unique()\n",
    "        self.model = None\n",
    "        \n",
    "    def fit(self):\n",
    "        data = Dataset.load_from_df(self.df1, Reader())\n",
    "        trainset = data.build_full_trainset() # generate data train\n",
    "        \n",
    "        self.model = NMF()\n",
    "        self.model.fit(trainset)\n",
    "        \n",
    "    def recommend(self, user_id, topk=10):\n",
    "        test_set = [[user_id,iid,4] for iid in all_item]\n",
    "        pred = model.test(test_set)\n",
    "        \n",
    "        rec = pd.DataFrame(pred).sort_values(by='est',ascending=False)\n",
    "        rec = rec.rename(columns={'uid':'user_id', 'iid':'item', 'r_ui':'rating', 'est':'pred_score'})\n",
    "        rec.drop(columns=['rating', 'details'], inplace=True)\n",
    "        rec.sort_values(\"pred_score\", ascending=False, inplace=True)\n",
    "        return rec.head(topk)"
   ]
  },
  {
   "cell_type": "code",
   "execution_count": 58,
   "id": "2c2bf4b1",
   "metadata": {},
   "outputs": [],
   "source": [
    "recsys = RecommenderSystem(\"collaborative_electronics.csv\")\n",
    "recsys.fit()"
   ]
  },
  {
   "cell_type": "code",
   "execution_count": 59,
   "id": "9a91ad83",
   "metadata": {},
   "outputs": [
    {
     "data": {
      "text/html": [
       "<div>\n",
       "<style scoped>\n",
       "    .dataframe tbody tr th:only-of-type {\n",
       "        vertical-align: middle;\n",
       "    }\n",
       "\n",
       "    .dataframe tbody tr th {\n",
       "        vertical-align: top;\n",
       "    }\n",
       "\n",
       "    .dataframe thead th {\n",
       "        text-align: right;\n",
       "    }\n",
       "</style>\n",
       "<table border=\"1\" class=\"dataframe\">\n",
       "  <thead>\n",
       "    <tr style=\"text-align: right;\">\n",
       "      <th></th>\n",
       "      <th>user_id</th>\n",
       "      <th>item</th>\n",
       "      <th>pred_score</th>\n",
       "    </tr>\n",
       "  </thead>\n",
       "  <tbody>\n",
       "    <tr>\n",
       "      <th>0</th>\n",
       "      <td>7509</td>\n",
       "      <td>Philips</td>\n",
       "      <td>4.052342</td>\n",
       "    </tr>\n",
       "    <tr>\n",
       "      <th>13</th>\n",
       "      <td>7509</td>\n",
       "      <td>Sennheiser</td>\n",
       "      <td>4.052342</td>\n",
       "    </tr>\n",
       "    <tr>\n",
       "      <th>2</th>\n",
       "      <td>7509</td>\n",
       "      <td>Canon</td>\n",
       "      <td>4.052342</td>\n",
       "    </tr>\n",
       "    <tr>\n",
       "      <th>3</th>\n",
       "      <td>7509</td>\n",
       "      <td>Linksys</td>\n",
       "      <td>4.052342</td>\n",
       "    </tr>\n",
       "    <tr>\n",
       "      <th>4</th>\n",
       "      <td>7509</td>\n",
       "      <td>NaN</td>\n",
       "      <td>4.052342</td>\n",
       "    </tr>\n",
       "    <tr>\n",
       "      <th>5</th>\n",
       "      <td>7509</td>\n",
       "      <td>Sony</td>\n",
       "      <td>4.052342</td>\n",
       "    </tr>\n",
       "    <tr>\n",
       "      <th>6</th>\n",
       "      <td>7509</td>\n",
       "      <td>Kodak</td>\n",
       "      <td>4.052342</td>\n",
       "    </tr>\n",
       "    <tr>\n",
       "      <th>7</th>\n",
       "      <td>7509</td>\n",
       "      <td>Polaroid</td>\n",
       "      <td>4.052342</td>\n",
       "    </tr>\n",
       "    <tr>\n",
       "      <th>8</th>\n",
       "      <td>7509</td>\n",
       "      <td>Olympus</td>\n",
       "      <td>4.052342</td>\n",
       "    </tr>\n",
       "    <tr>\n",
       "      <th>9</th>\n",
       "      <td>7509</td>\n",
       "      <td>Nikon</td>\n",
       "      <td>4.052342</td>\n",
       "    </tr>\n",
       "  </tbody>\n",
       "</table>\n",
       "</div>"
      ],
      "text/plain": [
       "    user_id        item  pred_score\n",
       "0      7509     Philips    4.052342\n",
       "13     7509  Sennheiser    4.052342\n",
       "2      7509       Canon    4.052342\n",
       "3      7509     Linksys    4.052342\n",
       "4      7509         NaN    4.052342\n",
       "5      7509        Sony    4.052342\n",
       "6      7509       Kodak    4.052342\n",
       "7      7509    Polaroid    4.052342\n",
       "8      7509     Olympus    4.052342\n",
       "9      7509       Nikon    4.052342"
      ]
     },
     "execution_count": 59,
     "metadata": {},
     "output_type": "execute_result"
    }
   ],
   "source": [
    "recsys.recommend(user_id=7509)"
   ]
  }
 ],
 "metadata": {
  "kernelspec": {
   "display_name": "Python [conda env:jcop_recsys]",
   "language": "python",
   "name": "conda-env-jcop_recsys-py"
  },
  "language_info": {
   "codemirror_mode": {
    "name": "ipython",
    "version": 3
   },
   "file_extension": ".py",
   "mimetype": "text/x-python",
   "name": "python",
   "nbconvert_exporter": "python",
   "pygments_lexer": "ipython3",
   "version": "3.7.6"
  },
  "varInspector": {
   "cols": {
    "lenName": 16,
    "lenType": 16,
    "lenVar": 40
   },
   "kernels_config": {
    "python": {
     "delete_cmd_postfix": "",
     "delete_cmd_prefix": "del ",
     "library": "var_list.py",
     "varRefreshCmd": "print(var_dic_list())"
    },
    "r": {
     "delete_cmd_postfix": ") ",
     "delete_cmd_prefix": "rm(",
     "library": "var_list.r",
     "varRefreshCmd": "cat(var_dic_list()) "
    }
   },
   "types_to_exclude": [
    "module",
    "function",
    "builtin_function_or_method",
    "instance",
    "_Feature"
   ],
   "window_display": false
  }
 },
 "nbformat": 4,
 "nbformat_minor": 5
}
